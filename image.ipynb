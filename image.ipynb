{
 "cells": [
  {
   "attachments": {},
   "cell_type": "markdown",
   "id": "c4b039e6",
   "metadata": {},
   "source": [
    "# Reading and Displaying an Image"
   ]
  },
  {
   "cell_type": "code",
   "execution_count": 1,
   "id": "cc448c18-d05c-4bde-b272-fa0336e50186",
   "metadata": {
    "tags": []
   },
   "outputs": [],
   "source": [
    "import cv2\n",
    "import numpy as np\n",
    "import matplotlib.pyplot as plt\n",
    "\n",
    "img = cv2.imread(\"img1.jpg\")\n",
    "\n",
    "cv2.imshow(\"Image\",img)\n",
    "\n",
    "cv2.waitKey(0)\n",
    "cv2.destroyAllWindows()"
   ]
  },
  {
   "attachments": {},
   "cell_type": "markdown",
   "id": "ee63516f",
   "metadata": {},
   "source": [
    "# Displaying multiple images using hstack function"
   ]
  },
  {
   "cell_type": "code",
   "execution_count": 2,
   "id": "435efd72-bc2f-4e7d-904c-c5d368a954e2",
   "metadata": {},
   "outputs": [
    {
     "data": {
      "text/plain": [
       "-1"
      ]
     },
     "execution_count": 2,
     "metadata": {},
     "output_type": "execute_result"
    }
   ],
   "source": [
    "import cv2\n",
    "import numpy as np\n",
    "\n",
    "img = cv2.imread(\"img1.jpg\")\n",
    "\n",
    "imgBlue = img[:,:,0]\n",
    "imgGreen = img[:,:,1]\n",
    "imgRed = img[:,:,2]\n",
    "\n",
    "new_img = np.hstack((imgBlue,imgGreen,imgRed))\n",
    "cv2.imshow(\"New Image\", new_img)\n",
    "\n",
    "cv2.waitKey(0)"
   ]
  },
  {
   "attachments": {},
   "cell_type": "markdown",
   "id": "38d2c0e4",
   "metadata": {},
   "source": [
    "# Creating an Image using Numpy library"
   ]
  },
  {
   "cell_type": "code",
   "execution_count": 8,
   "id": "25d2f133",
   "metadata": {},
   "outputs": [],
   "source": [
    "import cv2\n",
    "import numpy as np\n",
    "\n",
    "img = np.zeros((500,500,3))\n",
    "new_image = cv2.putText(\n",
    "  img = img,\n",
    "  text = \"Press X\",\n",
    "  org = (200, 200),\n",
    "  fontFace = cv2.FONT_HERSHEY_DUPLEX,\n",
    "  fontScale = 1.0,\n",
    "  color = (125, 246, 55),\n",
    "  thickness = 3\n",
    ")\n",
    "while True:\n",
    "    cv2.imshow(\"Window\", img)\n",
    "    if cv2.waitKey(1) & 0xFF == ord(\"x\"):\n",
    "        break\n",
    "cv2.destroyAllWindows()"
   ]
  },
  {
   "attachments": {},
   "cell_type": "markdown",
   "id": "b16837d7",
   "metadata": {},
   "source": [
    "# Taking input from Mouse Click"
   ]
  },
  {
   "cell_type": "code",
   "execution_count": null,
   "id": "8aea0c52",
   "metadata": {},
   "outputs": [],
   "source": [
    "import cv2\n",
    "import numpy as np\n",
    "\n",
    "def draw(event, x, y, flags, params):\n",
    "    print(event)\n",
    "    \n",
    "cv2.namedWindow(winname=\"Image\")  \n",
    "cv2.setMouseCallback(\"Image\", draw) \n",
    "\n",
    "img = np.zeros((500,500,3))\n",
    "\n",
    "while True:\n",
    "    cv2.imshow('Image', img)\n",
    "    if cv2.waitKey(1) &0xFF == ord('x'):\n",
    "        break\n",
    "cv2.destroyAllWindows()"
   ]
  },
  {
   "attachments": {},
   "cell_type": "markdown",
   "id": "f38b9f01",
   "metadata": {},
   "source": [
    "# Program to draw a circle on a mouse click"
   ]
  },
  {
   "cell_type": "code",
   "execution_count": 13,
   "id": "5692e757",
   "metadata": {},
   "outputs": [],
   "source": [
    "\n",
    "import cv2\n",
    "import numpy as np\n",
    "\n",
    "img = np.zeros((500,500,3))\n",
    "\n",
    "def draw(event, x, y, flags, params):\n",
    "    if event == 1:\n",
    "        cv2.circle(img, center=(x,y), radius=50, color = (0,255,255), thickness = 1)\n",
    "    \n",
    "cv2.namedWindow(winname=\"Image\")\n",
    "cv2.setMouseCallback(\"Image\", draw)\n",
    "\n",
    "while True:\n",
    "    cv2.imshow('Image', img)\n",
    "    if cv2.waitKey(2000) & 0xFF == ord(\"x\"):\n",
    "        break\n",
    "cv2.destroyAllWindows()"
   ]
  },
  {
   "attachments": {},
   "cell_type": "markdown",
   "id": "f5e4a6aa",
   "metadata": {},
   "source": [
    "# Program to draw a Rectangle using Mouse Clicks"
   ]
  },
  {
   "cell_type": "code",
   "execution_count": 2,
   "id": "c39f0e90",
   "metadata": {},
   "outputs": [],
   "source": [
    "import cv2\n",
    "import numpy as np\n",
    "\n",
    "ix = -1\n",
    "iy = -1\n",
    "flag = False\n",
    "\n",
    "def draw(event,x,y,flags,params):\n",
    "    \n",
    "    global flag,ix,iy\n",
    "    if event == 1:\n",
    "        flag = True\n",
    "        ix = x\n",
    "        iy = y\n",
    "\n",
    "    elif event == 0:\n",
    "        if flag == True:\n",
    "            pass\n",
    "            #cv2.rectangle(img, pt1=(ix,iy), pt2 =(x,y), color =(0,128,128),thickness= 0)\n",
    "    \n",
    "    elif event == 4:\n",
    "        flag = False\n",
    "        cv2.rectangle(img, pt1=(ix,iy), pt2 =(x,y), color =(0,128,128),thickness= 0)\n",
    "    \n",
    "cv2.namedWindow(winname=\"Image\")\n",
    "cv2.setMouseCallback(\"Image\", draw)\n",
    "\n",
    "img = np.zeros((1000,1000,3))\n",
    "\n",
    "while True:\n",
    "    cv2.imshow(\"Image\", img)\n",
    "    if cv2.waitKey(1) & 0xFF == ord(\"x\"):\n",
    "        break\n",
    "    \n",
    "cv2.destroyAllWindows()"
   ]
  }
 ],
 "metadata": {
  "kernelspec": {
   "display_name": "Python 3 (ipykernel)",
   "language": "python",
   "name": "python3"
  },
  "language_info": {
   "codemirror_mode": {
    "name": "ipython",
    "version": 3
   },
   "file_extension": ".py",
   "mimetype": "text/x-python",
   "name": "python",
   "nbconvert_exporter": "python",
   "pygments_lexer": "ipython3",
   "version": "3.11.4"
  }
 },
 "nbformat": 4,
 "nbformat_minor": 5
}
